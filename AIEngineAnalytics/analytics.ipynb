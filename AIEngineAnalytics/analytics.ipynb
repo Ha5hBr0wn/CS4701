{
 "cells": [
  {
   "cell_type": "code",
   "execution_count": 2,
   "metadata": {},
   "outputs": [],
   "source": [
    "import json\n",
    "import matplotlib.pyplot as plt\n",
    "import numpy as np"
   ]
  },
  {
   "cell_type": "markdown",
   "metadata": {},
   "source": [
    "### Functions for parsing, processing, and plotting data"
   ]
  },
  {
   "cell_type": "code",
   "execution_count": 3,
   "metadata": {},
   "outputs": [],
   "source": [
    "def extract_game_numbers_data(path_to_dir, time, dimension, game_numbers):\n",
    "    data = {}\n",
    "    for i in game_numbers:\n",
    "        with open(f'{path_to_dir}/{time}_{dimension}_{i}.json') as json_file:\n",
    "            data[i] = json.load(json_file)       \n",
    "    return data\n",
    "\n",
    "def extract_dimensions_data(path_to_dir, time, dimensions, game_numbers):\n",
    "    data = {}\n",
    "    for i in dimensions:\n",
    "        data[i] = extract_game_numbers_data(path_to_dir, time, i, game_numbers)\n",
    "    return data\n",
    "\n",
    "def extract_times_data(path_to_dir, times, dimensions, game_numbers):\n",
    "    data = {}\n",
    "    for i in times:\n",
    "        data[i] = extract_dimensions_data(path_to_dir, i, dimensions, game_numbers)\n",
    "    return data\n",
    "\n",
    "# Used to extract the full data tree for an entire directory of simulations. Indexed by the \n",
    "# time of the longer player, the dimension, then the game number. \n",
    "def read_games_from_json(path_to_dir, times, dimensions, game_numbers):\n",
    "    data = extract_times_data(path_to_dir, times, dimensions, game_numbers)\n",
    "    return data"
   ]
  },
  {
   "cell_type": "code",
   "execution_count": 4,
   "metadata": {},
   "outputs": [],
   "source": [
    "def get_win_rate(data, time, dimension):\n",
    "    long_wins = 0\n",
    "    short_wins = 0\n",
    "    \n",
    "    if dimension == 'total':\n",
    "        for d in data.keys():\n",
    "            long, short = get_win_rate(data, time, d)\n",
    "            long_wins += long\n",
    "            short_wins += short\n",
    "        return long_wins, short_wins\n",
    "    \n",
    "    else: \n",
    "        data = data[dimension]\n",
    "        for game in data.values():\n",
    "            if game['winner'] == time:\n",
    "                long_wins += 1\n",
    "            elif game['winner'] != 0:\n",
    "                short_wins += 1\n",
    "        return long_wins, short_wins\n",
    "    \n",
    "def div_tuple(pair):\n",
    "    if pair == (0, 0): return 0.5\n",
    "    elif pair[1] == 0: return 1\n",
    "    else: return pair[0] / pair[1]\n",
    "\n",
    "# Plots win rate vs time given a full data tree of 2xSimulations. win rate is the number of times the longer player won\n",
    "# over the number of times the shorter player won. Data is plotted for each dimension and aggregate. \n",
    "def plot_win_rate_vs_time(data):\n",
    "    times = [time for time in data.keys()]\n",
    "    time_buckets = [i for i in range(len(times))]\n",
    "    dimensions = [d for d in data[times[0]].keys()]\n",
    "    win_rates = []\n",
    "    \n",
    "    for dimension in dimensions:\n",
    "        win_rates.append([div_tuple(get_win_rate(data[time], time, dimension)) for time in times])\n",
    "    win_rates.append([div_tuple(get_win_rate(data[time], time, 'total')) for time in times])\n",
    "    \n",
    "    # Each row of win_rates corresponds to a fixed dimension. Each column is a fixed time. The last row\n",
    "    # is an aggregate over all dimensions\n",
    "    \n",
    "    win_rates = np.array(win_rates)\n",
    "    time_buckets = np.array(time_buckets)\n",
    "    \n",
    "    fig, ax = plt.subplots()\n",
    "    for i in range(len(dimensions)):\n",
    "        ax.plot(time_buckets, win_rates[i], label=f'dim {dimensions[i]}')\n",
    "    ax.plot(time_buckets, win_rates[-1], label=f'aggregate')\n",
    "    ax.set_xlabel('Time Magnitude')\n",
    "    ax.set_ylabel('Win Rate')\n",
    "    ax.set_title('Win Rate vs Time Magnitutde')\n",
    "    ax.legend()\n",
    "                     \n",
    "    "
   ]
  },
  {
   "cell_type": "code",
   "execution_count": 5,
   "metadata": {},
   "outputs": [],
   "source": [
    "# Plots the number of simulations vs move_num. Called on the data for a single game. Requires the AI's playing to use\n",
    "# the same time\n",
    "def plot_simulation_progression(game_data, title):\n",
    "    assert game_data['p1'] == game_data['p2']\n",
    "    time = game_data['p1']\n",
    "    moves = game_data['moves']\n",
    "    move_num = [i for i in range(1, len(moves) + 1)]\n",
    "    sim_counts = []\n",
    "    for i in range(len(moves)):\n",
    "        sim_counts.append(moves[i]['simulations'])\n",
    "    \n",
    "    move_num = np.array(move_num)\n",
    "    sim_counts = np.array(sim_counts)\n",
    "    \n",
    "    fig, ax = plt.subplots()\n",
    "    ax.plot(move_num, sim_counts, label=f'{time} seconds')\n",
    "    ax.set_xlabel('Move Number')\n",
    "    ax.set_ylabel('Number of Simulations')\n",
    "    ax.set_title(title)\n",
    "    ax.legend()"
   ]
  },
  {
   "cell_type": "code",
   "execution_count": 6,
   "metadata": {},
   "outputs": [],
   "source": [
    "# Plots number of simulations in the first move vs dimension given data that starts at a dimension index\n",
    "def plot_simulation_vs_dimension(data, title):\n",
    "    dimensions = [d for d in data.keys()]\n",
    "    time = data[dimensions[0]][0]['p1']\n",
    "    first_move_sim_counts = []\n",
    "    for d in dimensions:\n",
    "        game = data[d][0]\n",
    "        first_move = game['moves'][0]\n",
    "        first_move_sim_counts.append(first_move['simulations'])\n",
    "    \n",
    "    dimensions = np.array(dimensions)\n",
    "    first_move_sim_counts = np.array(first_move_sim_counts)\n",
    "    \n",
    "    fig, ax = plt.subplots()\n",
    "    ax.plot(dimensions, sim_counts, label=f'{time} seconds')\n",
    "    ax.set_xlabel('Dimension')\n",
    "    ax.set_ylabel('Number of Simulations')\n",
    "    ax.set_title(title)\n",
    "    ax.legend()\n",
    "        "
   ]
  },
  {
   "cell_type": "code",
   "execution_count": 7,
   "metadata": {},
   "outputs": [],
   "source": [
    "# Plots a scatter plot of best move_score vs move_num and plots points of different colors for different dimensions. \n",
    "# Takes in data at the dimension level of indexing\n",
    "def plot_move_certainty_vs_move_num(data):\n",
    "    dimensions = [d for d in data.keys()]\n",
    "    move_num = []\n",
    "    score = []\n",
    "    color = [i for i in range(1, len(dimensions) + 1)]\n",
    "    for d in dimensions:\n",
    "        score_d = []\n",
    "        move_num_d = []\n",
    "        for game in data[d]:\n",
    "            moves = game['moves']\n",
    "            for i in range(len(moves)):\n",
    "                score_d.append(moves[i]['stats'][0]['pts']/moves[i]['stats'][0]['attempts'])\n",
    "                move_num_d.append(i)\n",
    "        move_num.append(move_num_d)\n",
    "        score.append(score_d)\n",
    "    \n",
    "    move_num = np.array(move_num)\n",
    "    score = np.array(score)\n",
    "    color = np.array(color).reshape(len(dimensions), 1)\n",
    "    \n",
    "    fig, ax = plt.subplots()\n",
    "    for i in range(len(dimensions)):\n",
    "        ax.scatter(move_num[i], score[i], c=color[i][0], label=f'dim {dimensions[i]}')\n",
    "    ax.set_xlabel('Move Num')\n",
    "    ax.set_ylabel('Move Score')\n",
    "    ax.set_title('Move Score Progression in Different Dimensions')\n",
    "    ax.legend()"
   ]
  },
  {
   "cell_type": "markdown",
   "metadata": {},
   "source": [
    "### Experiment 1: Win Rate vs Time Magnitude Over Different Dimensions"
   ]
  },
  {
   "cell_type": "code",
   "execution_count": 9,
   "metadata": {},
   "outputs": [],
   "source": [
    "# Joining data in 2xSimulations into a single Dictionary\n",
    "times = [2 ** i for i in range(5)]\n",
    "dimensions = [i for i in range(4, 9)]\n",
    "game_numbers = [i for i in range(10)]\n",
    "data = read_games_from_json('./2xSimulations', times, dimensions, game_numbers)"
   ]
  },
  {
   "cell_type": "code",
   "execution_count": 10,
   "metadata": {},
   "outputs": [
    {
     "data": {
      "image/png": "[encoded data removed]",
      "text/plain": [
       "<Figure size 432x288 with 1 Axes>"
      ]
     },
     "metadata": {
      "needs_background": "light"
     },
     "output_type": "display_data"
    }
   ],
   "source": [
    "plot_win_rate_vs_time(data)"
   ]
  },
  {
   "cell_type": "code",
   "execution_count": null,
   "metadata": {},
   "outputs": [],
   "source": []
  }
 ],
 "metadata": {
  "kernelspec": {
   "display_name": "Python 3",
   "language": "python",
   "name": "python3"
  },
  "language_info": {
   "codemirror_mode": {
    "name": "ipython",
    "version": 3
   },
   "file_extension": ".py",
   "mimetype": "text/x-python",
   "name": "python",
   "nbconvert_exporter": "python",
   "pygments_lexer": "ipython3",
   "version": "3.8.3"
  }
 },
 "nbformat": 4,
 "nbformat_minor": 4
}
